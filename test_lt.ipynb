{
 "cells": [
  {
   "cell_type": "code",
   "execution_count": 60,
   "metadata": {},
   "outputs": [],
   "source": [
    "import numpy as np\n",
    "import random\n",
    "import matplotlib.pyplot as plt\n",
    "from soliton import ideal_soliton, robust_soliton"
   ]
  },
  {
   "cell_type": "code",
   "execution_count": 2,
   "metadata": {},
   "outputs": [],
   "source": [
    "def xor(l1, l2):\n",
    "    '''\n",
    "    perform component-wise xor\n",
    "    '''\n",
    "    assert len(l1) == len(l2), 'cannot xor if unequal size'\n",
    "    return [a ^ b for a,b in zip(l1, l2)]\n",
    "\n",
    "class Packet():\n",
    "    '''\n",
    "    Structure to encapsulate information about each packet\n",
    "    :param data - store the xor'd information\n",
    "    :param seed - used for recovering indices\n",
    "    '''\n",
    "    def __init__(self, data, degree, num_blocks, seed):\n",
    "        self.data = data\n",
    "        self.degree = degree\n",
    "        self.num_blocks = num_blocks\n",
    "        self.seed = seed\n",
    "    \n",
    "    def recover_source(self):\n",
    "        '''\n",
    "        Using degree and random seed, recover the indices of blocks that\n",
    "        were xor'd together to generate data\n",
    "        '''\n",
    "        random.seed(self.seed)\n",
    "        indices = random.sample(range(self.num_blocks), self.degree)\n",
    "        self.indices = indices\n",
    "    \n",
    "    def __str__(self):\n",
    "        ind = self.indices if hasattr(self, 'indices') else None\n",
    "        return f'packet object data: {self.data} \\n degree: {self.degree} \\n num blocks: ' \\\n",
    "            + f'{self.num_blocks} \\n seed: {self.seed} \\n indices: {ind}'\n",
    "\n",
    "class Encoder():\n",
    "    def create_blocks(self, data, blk_sz, pad_with=0):\n",
    "        '''\n",
    "        divide data into blocks of tunable size\n",
    "        :param blk_sz - desired block size\n",
    "        :param pad_with - if size of data is not evenly divisible, ensure that all\n",
    "            blocks are of the same size\n",
    "        '''\n",
    "        self.data = data\n",
    "        blocks = [self.data[i:i + blk_sz] for i in range(0, len(self.data), blk_sz)]\n",
    "        blocks[-1] += [0] * (blk_sz - len(blocks[-1]))\n",
    "        self.blocks = blocks\n",
    "    \n",
    "    def encode(self, seed, soliton, M = None, d = None, num_to_transmit = int(1e10)):\n",
    "        '''\n",
    "        generator function to indefinitely produce xor'd Packets\n",
    "        :param seed - random seed for recovering indices\n",
    "        :param soliton - desired degree distribution\n",
    "        must call create_blocks before calling this function\n",
    "        '''\n",
    "        assert hasattr(self, 'blocks'), 'Must call create_blocks to initialize'\n",
    "\n",
    "        counter = 0\n",
    "        while counter < num_to_transmit:\n",
    "            num_blocks = len(self.blocks)\n",
    "            \n",
    "            # choose a degree based on the given soliton distribution\n",
    "            degree = np.random.choice(range(1, num_blocks + 1), p=soliton(num_blocks, M=M, d=d))\n",
    "            \n",
    "            # seed so that we can recover the source block indices\n",
    "            random.seed(seed)\n",
    "            indices = random.sample(range(num_blocks), degree)\n",
    "            \n",
    "            # XOR all blocks\n",
    "            block = self.blocks[indices[0]]\n",
    "            for b in indices[1:]:\n",
    "                block = xor(block, self.blocks[b])\n",
    "\n",
    "            yield Packet(block, degree, num_blocks, seed)\n",
    "            # do not duplicate seeds\n",
    "            seed += 1\n",
    "            counter += 1\n",
    "\n",
    "class Decoder():\n",
    "    def __init__(self, num_blocks):\n",
    "        self.received = []\n",
    "        self.belief = [None] * num_blocks\n",
    "        self.num_blocks = num_blocks\n",
    "    \n",
    "    def incorporate(self, packet):\n",
    "        packet.recover_source()\n",
    "        self.received.append(packet)\n",
    "        if len(self.received) >= self.num_blocks:\n",
    "            self.propagate_beliefs([-1])\n",
    "    \n",
    "    def propagate_beliefs(self, index = None):\n",
    "        if all(s is None for s in self.belief):\n",
    "            # beginning our belief - search for symbol with degree 1\n",
    "            deg_one_symbols = [(i, r) for i, r in enumerate(self.received) if r.degree == 1]\n",
    "            if len(deg_one_symbols) == 0: # decoding failed\n",
    "                raise \"decoding failed, no point of entry\"\n",
    "            for _, s in deg_one_symbols:\n",
    "                self.belief[s.indices[0]] = s.data\n",
    "            index = [item[0] for item in deg_one_symbols]\n",
    "        for item in index:\n",
    "            for i, r in enumerate(self.received):\n",
    "                if r == item:\n",
    "                    pass\n",
    "                if item in r.indices:\n",
    "                    r.data = xor(r.data, self.received[item].data)\n",
    "                    r.indices.remove(item)"
   ]
  },
  {
   "cell_type": "code",
   "execution_count": 3,
   "metadata": {},
   "outputs": [],
   "source": [
    "e = Encoder()\n",
    "data = [random.randint(0, 1) for _ in range(12)]\n",
    "e.create_blocks(data, 3)"
   ]
  },
  {
   "cell_type": "code",
   "execution_count": 6,
   "metadata": {},
   "outputs": [],
   "source": [
    "enc = e.encode(0, robust_soliton, M = 1, d = 1)\n"
   ]
  },
  {
   "cell_type": "code",
   "execution_count": 73,
   "metadata": {},
   "outputs": [],
   "source": [
    "xes = [next(enc) for _ in range(1100)]"
   ]
  },
  {
   "cell_type": "code",
   "execution_count": 74,
   "metadata": {},
   "outputs": [],
   "source": [
    "degs = [x.degree for x in xes]\n",
    "degss = [\n",
    "    len([y for y in degs if y == 1]),\n",
    "    len([y for y in degs if y == 2]),\n",
    "    len([y for y in degs if y == 3]),\n",
    "    len([y for y in degs if y == 4])\n",
    "]"
   ]
  },
  {
   "cell_type": "code",
   "execution_count": 75,
   "metadata": {
    "scrolled": true
   },
   "outputs": [
    {
     "data": {
      "text/plain": [
       "[<matplotlib.lines.Line2D at 0x111685ba8>]"
      ]
     },
     "execution_count": 75,
     "metadata": {},
     "output_type": "execute_result"
    },
    {
     "data": {
      "image/png": "[encoded data removed]",
      "text/plain": [
       "<Figure size 432x288 with 2 Axes>"
      ]
     },
     "metadata": {
      "needs_background": "light"
     },
     "output_type": "display_data"
    }
   ],
   "source": [
    "# check degree dist\n",
    "f, ax = plt.subplots(ncols = 2)\n",
    "ax[0].plot(degss)\n",
    "ax[1].plot(robust_soliton(3, M = 1, d = 1))"
   ]
  },
  {
   "cell_type": "code",
   "execution_count": null,
   "metadata": {},
   "outputs": [],
   "source": []
  }
 ],
 "metadata": {
  "kernelspec": {
   "display_name": "Python 3",
   "language": "python",
   "name": "python3"
  },
  "language_info": {
   "codemirror_mode": {
    "name": "ipython",
    "version": 3
   },
   "file_extension": ".py",
   "mimetype": "text/x-python",
   "name": "python",
   "nbconvert_exporter": "python",
   "pygments_lexer": "ipython3",
   "version": "3.7.0"
  }
 },
 "nbformat": 4,
 "nbformat_minor": 2
}
