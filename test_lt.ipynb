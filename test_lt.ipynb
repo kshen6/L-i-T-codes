{
 "cells": [
  {
   "cell_type": "code",
   "execution_count": 1,
   "metadata": {},
   "outputs": [],
   "source": [
    "import numpy as np\n",
    "import random\n",
    "import matplotlib.pyplot as plt\n",
    "from soliton import ideal_soliton, robust_soliton\n",
    "import lt"
   ]
  },
  {
   "cell_type": "code",
   "execution_count": 2,
   "metadata": {},
   "outputs": [],
   "source": [
    "def xor(s1, s2):\n",
    "    '''\n",
    "    perform component-wise xor\n",
    "    '''\n",
    "    assert len(s1) == len(s2), 'cannot xor if unequal size'\n",
    "    return ''.join(str(int(a)^int(b)) for a,b in zip(s1,s2))\n",
    "\n",
    "class Packet():\n",
    "    '''\n",
    "    Structure to encapsulate information about each packet\n",
    "    :param data - store the xor'd information\n",
    "    :param degree - number of input symbols xor'd together\n",
    "    :param num_blocks - original total number of input symbols\n",
    "    :param seed - used for recovering indices\n",
    "    '''\n",
    "    def __init__(self, data, degree, num_blocks, seed):\n",
    "        self.data = data\n",
    "        self.degree = degree\n",
    "        self.num_blocks = num_blocks\n",
    "        self.seed = seed\n",
    "    \n",
    "    def recover_source(self):\n",
    "        '''\n",
    "        Using degree and random seed, recover the indices of blocks that\n",
    "        were xor'd together to generate data\n",
    "        '''\n",
    "        random.seed(self.seed)\n",
    "        indices = random.sample(range(self.num_blocks), self.degree)\n",
    "        self.indices = indices\n",
    "        self.neighbors = list(indices)\n",
    "    \n",
    "    def __str__(self):\n",
    "        ind = self.indices if hasattr(self, 'indices') else None\n",
    "        return 'packet object data: {} \\n degree: {} \\n num blocks: '.format(self.data, self.degree) \\\n",
    "            + '{} \\n seed: {} \\n indices: {} \\n neighbors: {}'.format(self.num_blocks, \\\n",
    "                self.seed, ind, self.neighbors)\n",
    "\n",
    "class Encoder():\n",
    "    def create_blocks(self, data, blk_sz, pad_with=0):\n",
    "        '''\n",
    "        divide data into blocks of tunable size\n",
    "        :param blk_sz - desired block size\n",
    "        :param pad_with - if size of data is not evenly divisible, ensure that all\n",
    "            blocks are of the same size\n",
    "        '''\n",
    "        self.data = data\n",
    "        blocks = [self.data[i:i + blk_sz] for i in range(0, len(self.data), blk_sz)]\n",
    "        blocks[-1] += '0' * (blk_sz - len(blocks[-1]))\n",
    "        self.blocks = blocks\n",
    "    \n",
    "    def encode(self, seed, soliton, M = None, d = None, num_to_transmit = float('inf')):\n",
    "        '''\n",
    "        generator to indefinitely produce xor'd Packets\n",
    "        :param seed - random seed for recovering indices\n",
    "        :param soliton - desired degree distribution\n",
    "        :param M, d - parameters for robust soliton\n",
    "        :num_to_transmit - number of Packets to generate\n",
    "        NOTE: must call create_blocks before calling this function\n",
    "        '''\n",
    "        assert hasattr(self, 'blocks'), 'Must call create_blocks to initialize'\n",
    "\n",
    "        counter = 0\n",
    "        num_blocks = len(self.blocks)\n",
    "        while counter < num_to_transmit:\n",
    "            # choose a degree based on the given soliton distribution\n",
    "            degree = np.random.choice(range(1, num_blocks + 1), p=soliton(num_blocks, M=M, d=d))\n",
    "            \n",
    "            # seed so that we can recover the source block indices\n",
    "            random.seed(seed)\n",
    "            indices = random.sample(range(num_blocks), degree)\n",
    "            \n",
    "            # XOR all blocks\n",
    "            block = self.blocks[indices[0]]\n",
    "            for b in indices[1:]:\n",
    "                block = xor(block, self.blocks[b])\n",
    "\n",
    "            yield Packet(block, degree, num_blocks, seed)\n",
    "            # do not duplicate seeds\n",
    "            seed += 1\n",
    "            counter += 1\n",
    "\n",
    "class Decoder():\n",
    "    def __init__(self):\n",
    "        self.received = [] # queue for unsolved packets\n",
    "        self.belief = [None] # list of original input symbols\n",
    "        self.num_blocks = None # number of input symbols\n",
    "        self.deg_one_syms = [] # queue of solved packets\n",
    "        self.num_packets = 0\n",
    "    \n",
    "    def update_belief(self, packet):\n",
    "        # first packet received\n",
    "        if self.num_blocks is None:\n",
    "            self.num_blocks = packet.num_blocks\n",
    "            self.belief = [None] * self.num_blocks\n",
    "        packet.recover_source()\n",
    "        self.num_packets += 1\n",
    "        if not any(elem is None for elem in self.belief): return # finished!!\n",
    "        if len(packet.neighbors) == 1:\n",
    "            self.belief[packet.neighbors[0]] = packet.data\n",
    "            return\n",
    "        # preprocess the packet\n",
    "        for n in packet.neighbors:\n",
    "            if self.belief[n] is not None:\n",
    "                packet.data = xor(packet.data, self.belief[n])\n",
    "                packet.neighbors.remove(n)\n",
    "        if len(packet.neighbors) == 0:\n",
    "            return\n",
    "        # potential for ripples\n",
    "        if len(packet.neighbors) == 1:\n",
    "            self.deg_one_syms.append(packet)\n",
    "            self.ripple()\n",
    "        else:\n",
    "            self.received.append(packet)\n",
    "    \n",
    "    def ripple(self):\n",
    "        if len(self.deg_one_syms) == 0: return\n",
    "        symbol = self.deg_one_syms.pop(0)\n",
    "        \n",
    "        index = symbol.neighbors[0]\n",
    "        self.belief[index] = symbol.data\n",
    "        \n",
    "        for r in self.received:\n",
    "            if index in r.neighbors:\n",
    "                r.data = xor(r.data, symbol.data)\n",
    "                r.neighbors.remove(index)\n",
    "                if len(r.neighbors) == 1:\n",
    "                    self.deg_one_syms.append(r)\n",
    "                    self.received.remove(r)\n",
    "        self.ripple()"
   ]
  },
  {
   "cell_type": "code",
   "execution_count": 2,
   "metadata": {},
   "outputs": [],
   "source": [
    "num_packets = 1000\n",
    "packet_sz = 20"
   ]
  },
  {
   "cell_type": "code",
   "execution_count": 16,
   "metadata": {
    "scrolled": true
   },
   "outputs": [],
   "source": [
    "e = lt.Encoder()\n",
    "data = [''.join([str(random.randint(0, 1)) for _ in range(packet_sz)]) for _ in range(num_packets)]\n",
    "e.create_blocks(data)\n",
    "enc = e.encode(0, robust_soliton, M = 485, d = 2)\n",
    "\n",
    "# xes = [next(enc) for _ in range(int(num_packets * 1.25))]\n",
    "\n",
    "d = lt.Decoder()\n",
    "while any(elem is None for elem in d.belief):\n",
    "    d.update_belief(next(enc))\n",
    "assert all(x is not None for x in d.belief), 'has not successfully reconstructed message'\n",
    "# for x in xes:\n",
    "#     d.update_belief(x)\n",
    "\n",
    "out_data = ''.join(d.belief)\n",
    "in_data = ''.join(data)\n",
    "assert out_data == in_data, 'produced incorrect beliefs'"
   ]
  },
  {
   "cell_type": "code",
   "execution_count": 17,
   "metadata": {},
   "outputs": [
    {
     "data": {
      "text/plain": [
       "2600"
      ]
     },
     "execution_count": 17,
     "metadata": {},
     "output_type": "execute_result"
    }
   ],
   "source": [
    "d.num_packets"
   ]
  },
  {
   "cell_type": "code",
   "execution_count": 3,
   "metadata": {},
   "outputs": [
    {
     "name": "stdout",
     "output_type": "stream",
     "text": [
      "0 0\n",
      "0 1\n",
      "0 2\n",
      "0 3\n",
      "0 4\n",
      "1 0\n",
      "1 1\n",
      "1 2\n",
      "1 3\n",
      "1 4\n",
      "2 0\n",
      "2 1\n",
      "2 2\n",
      "2 3\n",
      "2 4\n"
     ]
    },
    {
     "ename": "KeyboardInterrupt",
     "evalue": "",
     "output_type": "error",
     "traceback": [
      "\u001b[0;31m---------------------------------------------------------------------------\u001b[0m",
      "\u001b[0;31mKeyboardInterrupt\u001b[0m                         Traceback (most recent call last)",
      "\u001b[0;32m<ipython-input-3-82add2321120>\u001b[0m in \u001b[0;36m<module>\u001b[0;34m\u001b[0m\n\u001b[1;32m     13\u001b[0m         \u001b[0md\u001b[0m \u001b[0;34m=\u001b[0m \u001b[0mlt\u001b[0m\u001b[0;34m.\u001b[0m\u001b[0mDecoder\u001b[0m\u001b[0;34m(\u001b[0m\u001b[0;34m)\u001b[0m\u001b[0;34m\u001b[0m\u001b[0m\n\u001b[1;32m     14\u001b[0m         \u001b[0;32mwhile\u001b[0m \u001b[0many\u001b[0m\u001b[0;34m(\u001b[0m\u001b[0melem\u001b[0m \u001b[0;32mis\u001b[0m \u001b[0;32mNone\u001b[0m \u001b[0;32mfor\u001b[0m \u001b[0melem\u001b[0m \u001b[0;32min\u001b[0m \u001b[0md\u001b[0m\u001b[0;34m.\u001b[0m\u001b[0mbelief\u001b[0m\u001b[0;34m)\u001b[0m\u001b[0;34m:\u001b[0m\u001b[0;34m\u001b[0m\u001b[0m\n\u001b[0;32m---> 15\u001b[0;31m             \u001b[0md\u001b[0m\u001b[0;34m.\u001b[0m\u001b[0mupdate_belief\u001b[0m\u001b[0;34m(\u001b[0m\u001b[0mnext\u001b[0m\u001b[0;34m(\u001b[0m\u001b[0menc\u001b[0m\u001b[0;34m)\u001b[0m\u001b[0;34m)\u001b[0m\u001b[0;34m\u001b[0m\u001b[0m\n\u001b[0m\u001b[1;32m     16\u001b[0m         \u001b[0;32massert\u001b[0m \u001b[0mall\u001b[0m\u001b[0;34m(\u001b[0m\u001b[0mx\u001b[0m \u001b[0;32mis\u001b[0m \u001b[0;32mnot\u001b[0m \u001b[0;32mNone\u001b[0m \u001b[0;32mfor\u001b[0m \u001b[0mx\u001b[0m \u001b[0;32min\u001b[0m \u001b[0md\u001b[0m\u001b[0;34m.\u001b[0m\u001b[0mbelief\u001b[0m\u001b[0;34m)\u001b[0m\u001b[0;34m,\u001b[0m \u001b[0;34m'has not successfully reconstructed message'\u001b[0m\u001b[0;34m\u001b[0m\u001b[0m\n\u001b[1;32m     17\u001b[0m \u001b[0;34m\u001b[0m\u001b[0m\n",
      "\u001b[0;32m~/Box Sync/academic/CS166/L-i-T-codes/lt.py\u001b[0m in \u001b[0;36mencode\u001b[0;34m(self, seed, soliton, M, d, num_to_transmit)\u001b[0m\n\u001b[1;32m     67\u001b[0m             \u001b[0;31m# seed so that we can recover the source block indices\u001b[0m\u001b[0;34m\u001b[0m\u001b[0;34m\u001b[0m\u001b[0m\n\u001b[1;32m     68\u001b[0m             \u001b[0mrandom\u001b[0m\u001b[0;34m.\u001b[0m\u001b[0mseed\u001b[0m\u001b[0;34m(\u001b[0m\u001b[0mseed\u001b[0m\u001b[0;34m)\u001b[0m\u001b[0;34m\u001b[0m\u001b[0m\n\u001b[0;32m---> 69\u001b[0;31m             \u001b[0mindices\u001b[0m \u001b[0;34m=\u001b[0m \u001b[0mrandom\u001b[0m\u001b[0;34m.\u001b[0m\u001b[0msample\u001b[0m\u001b[0;34m(\u001b[0m\u001b[0mrange\u001b[0m\u001b[0;34m(\u001b[0m\u001b[0mnum_blocks\u001b[0m\u001b[0;34m)\u001b[0m\u001b[0;34m,\u001b[0m \u001b[0mdegree\u001b[0m\u001b[0;34m)\u001b[0m\u001b[0;34m\u001b[0m\u001b[0m\n\u001b[0m\u001b[1;32m     70\u001b[0m \u001b[0;34m\u001b[0m\u001b[0m\n\u001b[1;32m     71\u001b[0m             \u001b[0;31m# XOR all blocks\u001b[0m\u001b[0;34m\u001b[0m\u001b[0;34m\u001b[0m\u001b[0m\n",
      "\u001b[0;32m/usr/local/Cellar/python/3.7.0/Frameworks/Python.framework/Versions/3.7/lib/python3.7/random.py\u001b[0m in \u001b[0;36msample\u001b[0;34m(self, population, k)\u001b[0m\n\u001b[1;32m    335\u001b[0m             \u001b[0mselected_add\u001b[0m \u001b[0;34m=\u001b[0m \u001b[0mselected\u001b[0m\u001b[0;34m.\u001b[0m\u001b[0madd\u001b[0m\u001b[0;34m\u001b[0m\u001b[0m\n\u001b[1;32m    336\u001b[0m             \u001b[0;32mfor\u001b[0m \u001b[0mi\u001b[0m \u001b[0;32min\u001b[0m \u001b[0mrange\u001b[0m\u001b[0;34m(\u001b[0m\u001b[0mk\u001b[0m\u001b[0;34m)\u001b[0m\u001b[0;34m:\u001b[0m\u001b[0;34m\u001b[0m\u001b[0m\n\u001b[0;32m--> 337\u001b[0;31m                 \u001b[0mj\u001b[0m \u001b[0;34m=\u001b[0m \u001b[0mrandbelow\u001b[0m\u001b[0;34m(\u001b[0m\u001b[0mn\u001b[0m\u001b[0;34m)\u001b[0m\u001b[0;34m\u001b[0m\u001b[0m\n\u001b[0m\u001b[1;32m    338\u001b[0m                 \u001b[0;32mwhile\u001b[0m \u001b[0mj\u001b[0m \u001b[0;32min\u001b[0m \u001b[0mselected\u001b[0m\u001b[0;34m:\u001b[0m\u001b[0;34m\u001b[0m\u001b[0m\n\u001b[1;32m    339\u001b[0m                     \u001b[0mj\u001b[0m \u001b[0;34m=\u001b[0m \u001b[0mrandbelow\u001b[0m\u001b[0;34m(\u001b[0m\u001b[0mn\u001b[0m\u001b[0;34m)\u001b[0m\u001b[0;34m\u001b[0m\u001b[0m\n",
      "\u001b[0;32m/usr/local/Cellar/python/3.7.0/Frameworks/Python.framework/Versions/3.7/lib/python3.7/random.py\u001b[0m in \u001b[0;36m_randbelow\u001b[0;34m(self, n, int, maxsize, type, Method, BuiltinMethod)\u001b[0m\n\u001b[1;32m    226\u001b[0m         \u001b[0;34m\"Return a random int in the range [0,n).  Raises ValueError if n==0.\"\u001b[0m\u001b[0;34m\u001b[0m\u001b[0m\n\u001b[1;32m    227\u001b[0m \u001b[0;34m\u001b[0m\u001b[0m\n\u001b[0;32m--> 228\u001b[0;31m         \u001b[0mrandom\u001b[0m \u001b[0;34m=\u001b[0m \u001b[0mself\u001b[0m\u001b[0;34m.\u001b[0m\u001b[0mrandom\u001b[0m\u001b[0;34m\u001b[0m\u001b[0m\n\u001b[0m\u001b[1;32m    229\u001b[0m         \u001b[0mgetrandbits\u001b[0m \u001b[0;34m=\u001b[0m \u001b[0mself\u001b[0m\u001b[0;34m.\u001b[0m\u001b[0mgetrandbits\u001b[0m\u001b[0;34m\u001b[0m\u001b[0m\n\u001b[1;32m    230\u001b[0m         \u001b[0;31m# Only call self.getrandbits if the original random() builtin method\u001b[0m\u001b[0;34m\u001b[0m\u001b[0;34m\u001b[0m\u001b[0m\n",
      "\u001b[0;31mKeyboardInterrupt\u001b[0m: "
     ]
    }
   ],
   "source": [
    "overall = []\n",
    "\n",
    "for i in range(5):\n",
    "    packets_required = []\n",
    "\n",
    "    e = lt.Encoder()\n",
    "    data = [''.join([str(random.randint(0, 1)) for _ in range(packet_sz)]) for _ in range(num_packets)]\n",
    "    e.create_blocks(data)\n",
    "    enc = e.encode(0, robust_soliton, M = 485, d = 2)\n",
    "\n",
    "    for j in range(5):\n",
    "        print(i, j)\n",
    "        d = lt.Decoder()\n",
    "        while any(elem is None for elem in d.belief):\n",
    "            d.update_belief(next(enc))\n",
    "        assert all(x is not None for x in d.belief), 'has not successfully reconstructed message'\n",
    "\n",
    "        out_data = ''.join(d.belief)\n",
    "        in_data = ''.join(data)\n",
    "        assert out_data == in_data, 'produced incorrect beliefs'\n",
    "        packets_required.append(d.num_packets)\n",
    "\n",
    "    overall.append(packets_required)"
   ]
  },
  {
   "cell_type": "code",
   "execution_count": null,
   "metadata": {},
   "outputs": [],
   "source": [
    "overall = np.array(overall)\n",
    "x, y = [], []\n",
    "for r in range(overall.shape[0]):\n",
    "    for c in range(overall.shape[1]):\n",
    "        x.append(r)\n",
    "        y.append(overall[r,c])\n",
    "plt.scatter(x,y)\n",
    "plt.show()"
   ]
  },
  {
   "cell_type": "code",
   "execution_count": 13,
   "metadata": {},
   "outputs": [
    {
     "ename": "NameError",
     "evalue": "name 'xes' is not defined",
     "output_type": "error",
     "traceback": [
      "\u001b[0;31m---------------------------------------------------------------------------\u001b[0m",
      "\u001b[0;31mNameError\u001b[0m                                 Traceback (most recent call last)",
      "\u001b[0;32m<ipython-input-13-5ab84646240f>\u001b[0m in \u001b[0;36m<module>\u001b[0;34m\u001b[0m\n\u001b[1;32m      2\u001b[0m \u001b[0;32mfrom\u001b[0m \u001b[0mcollections\u001b[0m \u001b[0;32mimport\u001b[0m \u001b[0mCounter\u001b[0m\u001b[0;34m\u001b[0m\u001b[0m\n\u001b[1;32m      3\u001b[0m \u001b[0;34m\u001b[0m\u001b[0m\n\u001b[0;32m----> 4\u001b[0;31m \u001b[0mdegs\u001b[0m \u001b[0;34m=\u001b[0m \u001b[0;34m[\u001b[0m\u001b[0mx\u001b[0m\u001b[0;34m.\u001b[0m\u001b[0mdegree\u001b[0m \u001b[0;32mfor\u001b[0m \u001b[0mx\u001b[0m \u001b[0;32min\u001b[0m \u001b[0mxes\u001b[0m\u001b[0;34m]\u001b[0m\u001b[0;34m\u001b[0m\u001b[0m\n\u001b[0m\u001b[1;32m      5\u001b[0m \u001b[0mc\u001b[0m \u001b[0;34m=\u001b[0m \u001b[0mCounter\u001b[0m\u001b[0;34m(\u001b[0m\u001b[0mdegs\u001b[0m\u001b[0;34m)\u001b[0m\u001b[0;34m\u001b[0m\u001b[0m\n\u001b[1;32m      6\u001b[0m \u001b[0mdegss\u001b[0m \u001b[0;34m=\u001b[0m \u001b[0;34m[\u001b[0m\u001b[0mv\u001b[0m \u001b[0;32mfor\u001b[0m \u001b[0m_\u001b[0m\u001b[0;34m,\u001b[0m\u001b[0mv\u001b[0m \u001b[0;32min\u001b[0m \u001b[0msorted\u001b[0m\u001b[0;34m(\u001b[0m\u001b[0mc\u001b[0m\u001b[0;34m.\u001b[0m\u001b[0mitems\u001b[0m\u001b[0;34m(\u001b[0m\u001b[0;34m)\u001b[0m\u001b[0;34m)\u001b[0m\u001b[0;34m]\u001b[0m\u001b[0;34m\u001b[0m\u001b[0m\n",
      "\u001b[0;31mNameError\u001b[0m: name 'xes' is not defined"
     ]
    }
   ],
   "source": [
    "'''run this cell to validate degree distribution'''\n",
    "from collections import Counter\n",
    "\n",
    "degs = [x.degree for x in xes]\n",
    "c = Counter(degs)\n",
    "degss = [v for _,v in sorted(c.items())]\n",
    "\n",
    "f, ax = plt.subplots(ncols = 2)\n",
    "ax[0].plot(degss)\n",
    "ax[1].plot(robust_soliton(1000, M = 485, d = 2))"
   ]
  },
  {
   "cell_type": "code",
   "execution_count": 185,
   "metadata": {
    "scrolled": true
   },
   "outputs": [
    {
     "data": {
      "text/plain": [
       "True"
      ]
     },
     "execution_count": 185,
     "metadata": {},
     "output_type": "execute_result"
    }
   ],
   "source": [
    "all(x > 0 for x in robust_soliton(5000, M = 485, d = 2))"
   ]
  },
  {
   "cell_type": "code",
   "execution_count": null,
   "metadata": {},
   "outputs": [],
   "source": []
  }
 ],
 "metadata": {
  "kernelspec": {
   "display_name": "Python 3",
   "language": "python",
   "name": "python3"
  },
  "language_info": {
   "codemirror_mode": {
    "name": "ipython",
    "version": 3
   },
   "file_extension": ".py",
   "mimetype": "text/x-python",
   "name": "python",
   "nbconvert_exporter": "python",
   "pygments_lexer": "ipython3",
   "version": "3.7.0"
  }
 },
 "nbformat": 4,
 "nbformat_minor": 2
}
