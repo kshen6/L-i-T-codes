{
 "cells": [
  {
   "cell_type": "code",
   "execution_count": 26,
   "metadata": {},
   "outputs": [],
   "source": [
    "import numpy as np\n",
    "import random\n",
    "import matplotlib.pyplot as plt\n",
    "from soliton import ideal_soliton, robust_soliton\n",
    "import lt"
   ]
  },
  {
   "cell_type": "code",
   "execution_count": 27,
   "metadata": {},
   "outputs": [],
   "source": [
    "num_packets = 100\n",
    "packet_sz = 20\n",
    "res = []"
   ]
  },
  {
   "cell_type": "code",
   "execution_count": 20,
   "metadata": {
    "scrolled": true
   },
   "outputs": [],
   "source": [
    "e = lt.Encoder()\n",
    "data = [''.join([str(random.randint(0, 1)) for _ in range(packet_sz)]) for _ in range(num_packets)]\n",
    "e.create_blocks(data)\n",
    "enc = e.encode(0, robust_soliton, M = 48, d = .5)\n",
    "\n",
    "# xes = [next(enc) for _ in range(int(num_packets * 1.25))]\n",
    "\n",
    "d = lt.Decoder()\n",
    "while any(elem is None for elem in d.belief):\n",
    "    d.update_belief(next(enc))\n",
    "assert all(x is not None for x in d.belief), 'has not successfully reconstructed message'\n",
    "# for x in xes:\n",
    "#     d.update_belief(x)\n",
    "\n",
    "out_data = ''.join(d.belief)\n",
    "in_data = ''.join(data)\n",
    "assert out_data == in_data, 'produced incorrect beliefs'\n",
    "del e\n",
    "\n",
    "res.append(d.num_packets)\n",
    "del d"
   ]
  },
  {
   "cell_type": "code",
   "execution_count": 21,
   "metadata": {},
   "outputs": [
    {
     "data": {
      "text/plain": [
       "[2854]"
      ]
     },
     "execution_count": 21,
     "metadata": {},
     "output_type": "execute_result"
    }
   ],
   "source": [
    "res"
   ]
  },
  {
   "cell_type": "code",
   "execution_count": null,
   "metadata": {},
   "outputs": [
    {
     "name": "stdout",
     "output_type": "stream",
     "text": [
      "0 "
     ]
    }
   ],
   "source": [
    "overall = []\n",
    "\n",
    "for i in range(6):\n",
    "    packets_required = []\n",
    "\n",
    "    e = lt.Encoder()\n",
    "    data = [''.join([str(random.randint(0, 1)) for _ in range(packet_sz)]) for _ in range(num_packets)]\n",
    "    e.create_blocks(data)\n",
    "    enc = e.encode(0, robust_soliton, M = 48, d = .5)\n",
    "\n",
    "    for j in range(6):\n",
    "        print(i*6 + j, end = ' ')\n",
    "        d = lt.Decoder()\n",
    "        while any(elem is None for elem in d.belief):\n",
    "            d.update_belief(next(enc))\n",
    "        assert all(x is not None for x in d.belief), 'has not successfully reconstructed message'\n",
    "\n",
    "        out_data = ''.join(d.belief)\n",
    "        in_data = ''.join(data)\n",
    "        assert out_data == in_data, 'produced incorrect beliefs'\n",
    "        packets_required.append(d.num_packets)\n",
    "\n",
    "    overall.append(packets_required)"
   ]
  },
  {
   "cell_type": "code",
   "execution_count": 39,
   "metadata": {},
   "outputs": [
    {
     "data": {
      "image/png": "[encoded data removed]",
      "text/plain": [
       "<Figure size 432x288 with 1 Axes>"
      ]
     },
     "metadata": {
      "needs_background": "light"
     },
     "output_type": "display_data"
    }
   ],
   "source": [
    "overall = np.array(overall)\n",
    "x, y = [], []\n",
    "for r in range(overall.shape[0]):\n",
    "    for c in range(overall.shape[1]):\n",
    "        x.append(r)\n",
    "        y.append(overall[r,c])\n",
    "plt.scatter(x,y)\n",
    "plt.scatter(x,[100]*(overall.shape[0]*overall.shape[1]))\n",
    "# plt.ylim([50,50000])\n",
    "plt.show()"
   ]
  },
  {
   "cell_type": "code",
   "execution_count": 13,
   "metadata": {},
   "outputs": [
    {
     "ename": "NameError",
     "evalue": "name 'xes' is not defined",
     "output_type": "error",
     "traceback": [
      "\u001b[0;31m---------------------------------------------------------------------------\u001b[0m",
      "\u001b[0;31mNameError\u001b[0m                                 Traceback (most recent call last)",
      "\u001b[0;32m<ipython-input-13-5ab84646240f>\u001b[0m in \u001b[0;36m<module>\u001b[0;34m\u001b[0m\n\u001b[1;32m      2\u001b[0m \u001b[0;32mfrom\u001b[0m \u001b[0mcollections\u001b[0m \u001b[0;32mimport\u001b[0m \u001b[0mCounter\u001b[0m\u001b[0;34m\u001b[0m\u001b[0m\n\u001b[1;32m      3\u001b[0m \u001b[0;34m\u001b[0m\u001b[0m\n\u001b[0;32m----> 4\u001b[0;31m \u001b[0mdegs\u001b[0m \u001b[0;34m=\u001b[0m \u001b[0;34m[\u001b[0m\u001b[0mx\u001b[0m\u001b[0;34m.\u001b[0m\u001b[0mdegree\u001b[0m \u001b[0;32mfor\u001b[0m \u001b[0mx\u001b[0m \u001b[0;32min\u001b[0m \u001b[0mxes\u001b[0m\u001b[0;34m]\u001b[0m\u001b[0;34m\u001b[0m\u001b[0m\n\u001b[0m\u001b[1;32m      5\u001b[0m \u001b[0mc\u001b[0m \u001b[0;34m=\u001b[0m \u001b[0mCounter\u001b[0m\u001b[0;34m(\u001b[0m\u001b[0mdegs\u001b[0m\u001b[0;34m)\u001b[0m\u001b[0;34m\u001b[0m\u001b[0m\n\u001b[1;32m      6\u001b[0m \u001b[0mdegss\u001b[0m \u001b[0;34m=\u001b[0m \u001b[0;34m[\u001b[0m\u001b[0mv\u001b[0m \u001b[0;32mfor\u001b[0m \u001b[0m_\u001b[0m\u001b[0;34m,\u001b[0m\u001b[0mv\u001b[0m \u001b[0;32min\u001b[0m \u001b[0msorted\u001b[0m\u001b[0;34m(\u001b[0m\u001b[0mc\u001b[0m\u001b[0;34m.\u001b[0m\u001b[0mitems\u001b[0m\u001b[0;34m(\u001b[0m\u001b[0;34m)\u001b[0m\u001b[0;34m)\u001b[0m\u001b[0;34m]\u001b[0m\u001b[0;34m\u001b[0m\u001b[0m\n",
      "\u001b[0;31mNameError\u001b[0m: name 'xes' is not defined"
     ]
    }
   ],
   "source": [
    "'''run this cell to validate degree distribution'''\n",
    "from collections import Counter\n",
    "\n",
    "degs = [x.degree for x in xes]\n",
    "c = Counter(degs)\n",
    "degss = [v for _,v in sorted(c.items())]\n",
    "\n",
    "f, ax = plt.subplots(ncols = 2)\n",
    "ax[0].plot(degss)\n",
    "ax[1].plot(robust_soliton(1000, M = 485, d = 2))"
   ]
  },
  {
   "cell_type": "code",
   "execution_count": 185,
   "metadata": {
    "scrolled": true
   },
   "outputs": [
    {
     "data": {
      "text/plain": [
       "True"
      ]
     },
     "execution_count": 185,
     "metadata": {},
     "output_type": "execute_result"
    }
   ],
   "source": [
    "all(x > 0 for x in robust_soliton(5000, M = 485, d = 2))"
   ]
  },
  {
   "cell_type": "code",
   "execution_count": null,
   "metadata": {},
   "outputs": [],
   "source": []
  }
 ],
 "metadata": {
  "kernelspec": {
   "display_name": "Python 3",
   "language": "python",
   "name": "python3"
  },
  "language_info": {
   "codemirror_mode": {
    "name": "ipython",
    "version": 3
   },
   "file_extension": ".py",
   "mimetype": "text/x-python",
   "name": "python",
   "nbconvert_exporter": "python",
   "pygments_lexer": "ipython3",
   "version": "3.7.0"
  }
 },
 "nbformat": 4,
 "nbformat_minor": 2
}
